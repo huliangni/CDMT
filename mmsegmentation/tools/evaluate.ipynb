{
 "cells": [
  {
   "cell_type": "code",
   "execution_count": 1,
   "metadata": {},
   "outputs": [],
   "source": [
    "import os\n",
    "import random\n",
    "import math\n",
    "import torch\n",
    "import torch.utils.data as data\n",
    "import pandas as pd\n",
    "from PIL import Image\n",
    "import numpy as np\n",
    "import cv2\n",
    "import json"
   ]
  },
  {
   "cell_type": "markdown",
   "metadata": {},
   "source": [
    "#### 骨头、关键点、角度的转换"
   ]
  },
  {
   "cell_type": "code",
   "execution_count": 2,
   "metadata": {},
   "outputs": [],
   "source": [
    "def angle2type_V2(alpha,beta):\n",
    "    if alpha >=60:\n",
    "        if beta<=55:\n",
    "            return 'Ia'\n",
    "        else:\n",
    "            return 'Ib'\n",
    "    elif alpha >=50:\n",
    "        return 'IIa'\n",
    "    elif alpha >= 43 :\n",
    "        if beta <= 77:       \n",
    "            return 'IIc'\n",
    "        else:\n",
    "            return 'D'\n",
    "    else :\n",
    "        return 'III'\n",
    "\n",
    "def angle2type_V1(alpha,beta):\n",
    "    if alpha >=60:\n",
    "        if beta<=55:\n",
    "            return 'I'\n",
    "        else:\n",
    "            return 'I'\n",
    "    elif alpha >=50:\n",
    "        return 'II'\n",
    "    elif alpha >= 43 :\n",
    "        if beta <= 77:       \n",
    "            return 'II'\n",
    "        else:\n",
    "            return 'D'\n",
    "    else :\n",
    "        return 'III'\n",
    "\n",
    "def mask2point(mask):\n",
    "    point_list = np.zeros((6,2))\n",
    "    # 获取1号点，用2号区域的最左端代替\n",
    "    if np.sum(mask==2) > 0:\n",
    "        index = np.argwhere(mask==2)\n",
    "    else:\n",
    "        index = np.argwhere(mask==0)\n",
    "    y = np.argmin(index[:,1])\n",
    "    point_list[1-1] = index[y]\n",
    "    # 获取2号点，用1号点平移代替\n",
    "    point_list[2-1][0] = point_list[1-1][0].item()\n",
    "    point_list[2-1][1] = point_list[1-1][1].item()+20\n",
    "    # 获取3号点，用1号区域的最右端代替\n",
    "    if np.sum(mask==1) > 0:\n",
    "        index = np.argwhere(mask==1)\n",
    "    else:\n",
    "        index = np.argwhere(mask==0)\n",
    "    y = np.argmax(index[:,1])\n",
    "    point_list[3-1] = index[y]\n",
    "    \n",
    "    # 获取4号点，位于区域3最下端和最右端的平均\n",
    "    if np.sum(mask==3) > 0:\n",
    "        index = np.argwhere(mask==3)\n",
    "    else:\n",
    "        index = np.argwhere(mask==0)\n",
    "    y1 = np.argmax(index[:,0])\n",
    "    y2 = np.argmax(index[:,1])\n",
    "    point_list[4-1] = np.round(((index[y1]+index[y2])/2))\n",
    "    '''\n",
    "    # 获取4号点，位于区域3最右端\n",
    "    if np.sum(mask==3) > 0:\n",
    "        index = np.argwhere(mask==3)\n",
    "    else:\n",
    "        index = np.argwhere(mask==0)\n",
    "    y2 = np.argmax(index[:,1])\n",
    "    point_list[4-1] = index[y2]\n",
    "    '''\n",
    "    # 获取5号点，位于区域1最下端\n",
    "    if np.sum(mask==1) > 0:\n",
    "        index = np.argwhere(mask==1)\n",
    "    else:\n",
    "        index = np.argwhere(mask==0)\n",
    "    index = np.argwhere(mask==1)\n",
    "    y = np.argmax(index[:,0])\n",
    "    point_list[5-1] = index[y]\n",
    "    # 获取6号点，位于区域4几何中心\n",
    "    if np.sum(mask==4) > 0:\n",
    "        index = np.argwhere(mask==4)\n",
    "    else:\n",
    "        index = np.argwhere(mask==0)\n",
    "    p = np.mean(index, axis=0)\n",
    "    point_list[6-1] = np.round(p)\n",
    "    return point_list\n",
    "\n",
    "def point2line(point1,point2):\n",
    "    # 用极坐标 r,rho 来表示过两点的直线\n",
    "\n",
    "    # 提取坐标值\n",
    "    x1, y1 = point1\n",
    "    x2, y2 = point2\n",
    "\n",
    "    # 计算极径（r）原点到直线的距离\n",
    "    A = y2 - y1\n",
    "    B = x1 - x2\n",
    "    C = x2 * y1 - x1 * y2\n",
    "    # 计算原点到直线的距离（点到直线的距离公式）\n",
    "    r = np.abs(C) / np.sqrt(A**2 + B**2)\n",
    "\n",
    "    # direction 切点位于y轴的上方还是下方，也就是直线的截距\n",
    "    direction = (y1*x2-y2*x1)*(x2-x1)\n",
    "    if direction >=0:\n",
    "        direction = 1\n",
    "    else:\n",
    "        direction = -1\n",
    "\n",
    "    r*= direction\n",
    "\n",
    "    # 计算极角（theta）（以弧度为单位）\n",
    "    theta = np.arctan2(y2 - y1, x2 - x1)+np.pi/2    # 切线和直线垂直\n",
    "    # +pi/2是把极轴从x轴转为y轴\n",
    "\n",
    "    # 将极角从弧度转换为度\n",
    "    theta_degrees = np.degrees(theta)\n",
    "\n",
    "    return r,theta_degrees  # 其实是极坐标表示的切点位置，从y轴顺时针旋转\n",
    "\n",
    "def points2angle(points):\n",
    "    points = points.reshape(3,2,2)\n",
    "    line_list = [point2line(ps[0], ps[1]) for ps in points ]\n",
    "    theta_list = [line[1] for line in line_list ]\n",
    "    alpha,beta = line2angle(*tuple(theta_list))\n",
    "    return [alpha,beta]\n",
    "\n",
    "def line2angle(theta1,theta2,theta3):\n",
    "    # 这个theta是直线的切点的角度，相当于从上y轴开始顺时针\n",
    "    theta1 = 90\n",
    "    alpha = theta2-theta1\n",
    "    beta = theta1-theta3\n",
    "    return alpha,beta"
   ]
  },
  {
   "cell_type": "markdown",
   "metadata": {},
   "source": [
    "#### loss 指标"
   ]
  },
  {
   "cell_type": "code",
   "execution_count": 9,
   "metadata": {},
   "outputs": [],
   "source": [
    "def IOU_metric(pred,label, class_num):\n",
    "    '''\n",
    "        pred, label : shape(H,W) , number 0~4\n",
    "    '''\n",
    "    IOU_list = []\n",
    "    for i in range(1,class_num):\n",
    "        index_pred = (pred==i)\n",
    "        index_label = (label==i)\n",
    "        IOU_list.append( (index_pred&index_label).sum() / ((index_pred|index_label).sum()+1e-5) )\n",
    "    return IOU_list\n",
    "\n",
    "def DSC_metric(pred,label, class_num):\n",
    "    '''\n",
    "        pred, label : shape(H,W) , number 0~4\n",
    "    '''\n",
    "    DSC_list = []\n",
    "    for i in range(1,class_num):\n",
    "        index_pred = (pred==i)\n",
    "        index_label = (label==i)\n",
    "        DSC_list.append( 2*(index_pred&index_label).sum() / (index_pred.sum()+1e-5+index_label.sum()) )\n",
    "    return DSC_list"
   ]
  },
  {
   "cell_type": "markdown",
   "metadata": {},
   "source": [
    "#### 文件读取"
   ]
  },
  {
   "cell_type": "code",
   "execution_count": 10,
   "metadata": {},
   "outputs": [],
   "source": [
    "def read_files(file_list):\n",
    "    files = []\n",
    "    for item in file_list:\n",
    "        image_path, mask_path, point_path = item\n",
    "        name = os.path.splitext(os.path.basename(mask_path))[0]\n",
    "        sample = {\n",
    "            'img': image_path,\n",
    "            'label': mask_path,\n",
    "            'keypoint':point_path,\n",
    "            'name': name\n",
    "        }\n",
    "        files.append(sample)\n",
    "    return files"
   ]
  },
  {
   "cell_type": "markdown",
   "metadata": {},
   "source": [
    "#### 评估性能"
   ]
  },
  {
   "cell_type": "code",
   "execution_count": 11,
   "metadata": {},
   "outputs": [],
   "source": [
    "def seg_evalute(name_dir, label_dir, pred_dir):\n",
    "    result = {\n",
    "        'IOU':[],\n",
    "        'DSC':[],\n",
    "        'alpha':[],\n",
    "        'beta':[],\n",
    "        'typeV1':[],\n",
    "        'typeV2':[]\n",
    "    }\n",
    "\n",
    "    name_list = [line.strip() for line in open(name_dir)]\n",
    "    for name in name_list:\n",
    "        pred_mask = np.array(Image.open(pred_dir+f'/{name}.png').convert('P'))\n",
    "        label_mask = np.array(Image.open(label_dir+f'/{name}.png').convert('P'))\n",
    "        # shape = (H,W) 行,列  当H>W，图片是竖着的长方形\n",
    "        IOU = IOU_metric(pred_mask, label_mask, class_num=5)\n",
    "        result['IOU'].append(IOU)\n",
    "\n",
    "        DSC = DSC_metric(pred_mask, label_mask, class_num=5)\n",
    "        result['DSC'].append(DSC)\n",
    "\n",
    "        pred_point = mask2point(pred_mask)\n",
    "        pred_point = pred_point[:,[1,0]]\n",
    "        label_point = mask2point(label_mask)\n",
    "        label_point = label_point[:,[1,0]]\n",
    "\n",
    "        label_angle = points2angle(label_point)\n",
    "        pred_angle = points2angle(pred_point)\n",
    "\n",
    "        alpha_error = abs(pred_angle[0]-label_angle[0])\n",
    "        beta_error = abs(pred_angle[1]-label_angle[1])\n",
    "        result['alpha'].append(alpha_error)\n",
    "        result['beta'].append(beta_error)\n",
    "\n",
    "        typeV1 = angle2type_V1(*tuple(label_angle)) == angle2type_V1(*tuple(pred_angle))\n",
    "        typeV2 = angle2type_V2(*tuple(label_angle)) == angle2type_V2(*tuple(pred_angle))\n",
    "        result['typeV1'].append(typeV1)\n",
    "        result['typeV2'].append(typeV2)\n",
    "\n",
    "    for key,value in result.items():\n",
    "        result[key] = np.array(value)\n",
    "\n",
    "    return result\n",
    "    "
   ]
  },
  {
   "cell_type": "markdown",
   "metadata": {},
   "source": [
    "#### 保存结果"
   ]
  },
  {
   "cell_type": "code",
   "execution_count": 12,
   "metadata": {},
   "outputs": [],
   "source": [
    "import pandas as pd\n",
    "\n",
    "def save_result(result,save_dir):\n",
    "    # 数据\n",
    "    data = {}\n",
    "    for i in range(4):\n",
    "        data[f'IOU 骨头{i+1}']=[round(result['IOU'].mean(0)[i],4)]\n",
    "    data['IOU 平均']=[round(result['IOU'].mean(),4)]\n",
    "    for i in range(4):\n",
    "        data[f'DSC 骨头{i+1}']=[round(result['DSC'].mean(0)[i],4)]\n",
    "    data['DSC 平均']=[round(result['DSC'].mean(),4)]\n",
    "    data['alpha']=[round(result['alpha'].mean(),2)]\n",
    "    data['beta']=[round(result['beta'].mean(),2)]\n",
    "    data['typeV1']=[round(result['typeV1'].mean(),4)]\n",
    "    data['typeV2']=[round(result['typeV2'].mean(),4)]\n",
    "\n",
    "    # 创建DataFrame\n",
    "    df = pd.DataFrame(data)\n",
    "\n",
    "    # 保存为Excel文件\n",
    "    file_path = save_dir+'.xlsx'\n",
    "    df.to_excel(file_path, index=False)"
   ]
  },
  {
   "cell_type": "markdown",
   "metadata": {},
   "source": [
    "#### main"
   ]
  },
  {
   "cell_type": "code",
   "execution_count": 13,
   "metadata": {},
   "outputs": [
    {
     "name": "stdout",
     "output_type": "stream",
     "text": [
      "各个骨头结构IOU[0.75286922 0.65907641 0.68782659 0.51736375] , 平均IOU0.6542839927007845\n",
      "各个骨头结构DSC[0.85569319 0.78790815 0.80158121 0.66048621] , 平均DSC0.7764171916709588\n",
      "alpha 角度误差 6.961525280362061, beta 角度误差 3.9799574181370465\n",
      "typeV1疾病准确率 0.8089171974522293, typeV2疾病准确 0.7133757961783439\n",
      "各个骨头结构IOU[0.69580205 0.61088572 0.65606685 0.48589065] , 平均IOU0.6121613163982725\n",
      "各个骨头结构DSC[0.81318455 0.74786179 0.78346542 0.62734511] , 平均DSC0.7429642156697546\n",
      "alpha 角度误差 3.5874731610098354, beta 角度误差 4.877796896210727\n",
      "typeV1疾病准确率 0.8535031847133758, typeV2疾病准确 0.732484076433121\n",
      "各个骨头结构IOU[0.7007907  0.64247871 0.67797936 0.49596392] , 平均IOU0.6293031719606652\n",
      "各个骨头结构DSC[0.81617566 0.77453853 0.79958942 0.63767932] , 平均DSC0.7569957312924762\n",
      "alpha 角度误差 3.500032354957647, beta 角度误差 4.336021750611191\n",
      "typeV1疾病准确率 0.8280254777070064, typeV2疾病准确 0.7452229299363057\n",
      "各个骨头结构IOU[0.67889153 0.61610918 0.65031943 0.47504521] , 平均IOU0.6050913399547292\n",
      "各个骨头结构DSC[0.80000437 0.7516194  0.7752504  0.61813358] , 平均DSC0.7362519344069531\n",
      "alpha 角度误差 4.4613945544029034, beta 角度误差 4.838126723941023\n",
      "typeV1疾病准确率 0.821656050955414, typeV2疾病准确 0.7515923566878981\n",
      "各个骨头结构IOU[0.65293386 0.58131665 0.5916268  0.36349521] , 平均IOU0.5473431280135777\n",
      "各个骨头结构DSC[0.78126824 0.72589185 0.73154264 0.50604463] , 平均DSC0.6861868391533614\n",
      "alpha 角度误差 3.526314347732222, beta 角度误差 6.640308690296773\n",
      "typeV1疾病准确率 0.8535031847133758, typeV2疾病准确 0.7133757961783439\n",
      "各个骨头结构IOU[0.76277858 0.6555326  0.71981105 0.53165156] , 平均IOU0.6674434477218534\n",
      "各个骨头结构DSC[0.86297928 0.78598727 0.83279004 0.67501437] , 平均DSC0.7891927376235557\n",
      "alpha 角度误差 2.630743129590311, beta 角度误差 4.214012108537171\n",
      "typeV1疾病准确率 0.8343949044585988, typeV2疾病准确 0.7452229299363057\n",
      "各个骨头结构IOU[0.76107119 0.6593814  0.7014969  0.50730537] , 平均IOU0.6573137147595317\n",
      "各个骨头结构DSC[0.86142655 0.78833739 0.81934321 0.65379058] , 平均DSC0.7807244329383075\n",
      "alpha 角度误差 3.3390699767456518, beta 角度误差 3.740487862387051\n",
      "typeV1疾病准确率 0.8726114649681529, typeV2疾病准确 0.7707006369426752\n",
      "各个骨头结构IOU[0.72590809 0.63430395 0.67632316 0.49295821] , 平均IOU0.6323733543753265\n",
      "各个骨头结构DSC[0.83676871 0.76836589 0.7978366  0.63647887] , 平均DSC0.7598625173783154\n",
      "alpha 角度误差 4.135965013846037, beta 角度误差 4.025006864503151\n",
      "typeV1疾病准确率 0.8343949044585988, typeV2疾病准确 0.7515923566878981\n",
      "各个骨头结构IOU[0.75312015 0.67566951 0.72611971 0.540958  ] , 平均IOU0.6739668426130344\n",
      "各个骨头结构DSC[0.8559395  0.8001909  0.83718532 0.68503854] , 平均DSC0.7945885642611524\n",
      "alpha 角度误差 4.06639283284797, beta 角度误差 3.3306379220665647\n",
      "typeV1疾病准确率 0.8535031847133758, typeV2疾病准确 0.7770700636942676\n"
     ]
    }
   ],
   "source": [
    "log_name_list = ['unet','upper_r50','twins','swin_upernet','setr','segnext-B','deeplabv3','hrnet','mask2former']\n",
    "for log_name in log_name_list:\n",
    "    name_dir = '/media/HDD/hln/dataset/HipJoint_mmseg/splits/test.txt'\n",
    "    label_dir = '/media/HDD/hln/dataset/HipJoint_mmseg/labels'\n",
    "    pred_dir = f'../work_dirs/{log_name}/pred'\n",
    "    save_dir = f'../saved/{log_name}'\n",
    "\n",
    "    result = seg_evalute(name_dir, label_dir, pred_dir)\n",
    "    save_result(result, save_dir)\n",
    "\n",
    "    print(f\"各个骨头结构IOU{result['IOU'].mean(0)} , 平均IOU{result['IOU'].mean()}\")\n",
    "    print(f\"各个骨头结构DSC{result['DSC'].mean(0)} , 平均DSC{result['DSC'].mean()}\")\n",
    "    print(f\"alpha 角度误差 {result['alpha'].mean()}, beta 角度误差 {result['beta'].mean()}\" )\n",
    "    print(f\"typeV1疾病准确率 {result['typeV1'].mean()}, typeV2疾病准确 {result['typeV2'].mean()}\" )"
   ]
  },
  {
   "cell_type": "code",
   "execution_count": 1,
   "metadata": {},
   "outputs": [
    {
     "data": {
      "text/plain": [
       "3.1416"
      ]
     },
     "execution_count": 1,
     "metadata": {},
     "output_type": "execute_result"
    }
   ],
   "source": [
    "round(3.14155,4)"
   ]
  },
  {
   "cell_type": "code",
   "execution_count": 1,
   "metadata": {},
   "outputs": [],
   "source": [
    "def iou(x):\n",
    "    return x/(2-x) "
   ]
  },
  {
   "cell_type": "code",
   "execution_count": 14,
   "metadata": {},
   "outputs": [
    {
     "data": {
      "text/plain": [
       "0.6669444907484581"
      ]
     },
     "execution_count": 14,
     "metadata": {},
     "output_type": "execute_result"
    }
   ],
   "source": [
    "iou(0.8002)"
   ]
  },
  {
   "cell_type": "code",
   "execution_count": 16,
   "metadata": {},
   "outputs": [
    {
     "data": {
      "text/plain": [
       "679.75"
      ]
     },
     "execution_count": 16,
     "metadata": {},
     "output_type": "execute_result"
    }
   ],
   "source": [
    "import numpy as np\n",
    "np.mean([749,668,739,563])"
   ]
  },
  {
   "cell_type": "code",
   "execution_count": null,
   "metadata": {},
   "outputs": [],
   "source": []
  }
 ],
 "metadata": {
  "kernelspec": {
   "display_name": "py38",
   "language": "python",
   "name": "python3"
  },
  "language_info": {
   "codemirror_mode": {
    "name": "ipython",
    "version": 3
   },
   "file_extension": ".py",
   "mimetype": "text/x-python",
   "name": "python",
   "nbconvert_exporter": "python",
   "pygments_lexer": "ipython3",
   "version": "3.8.19"
  }
 },
 "nbformat": 4,
 "nbformat_minor": 2
}
